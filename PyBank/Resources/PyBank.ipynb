{
 "cells": [
  {
   "cell_type": "code",
   "execution_count": 3,
   "id": "78c92b8d-9c39-489f-98ab-f5b4856269b0",
   "metadata": {},
   "outputs": [
    {
     "name": "stdout",
     "output_type": "stream",
     "text": [
      "Financial Analysis\n",
      "----------------------------\n",
      "Total Months: 86\n",
      "Total: $22564198\n",
      "Average Change: $-8311.11\n",
      "Greatest Increase in Profits: Aug-16 ($1862002)\n",
      "Greatest Decrease in Profits: Feb-14 ($-1825558)\n"
     ]
    }
   ],
   "source": [
    "#Dependencies\n",
    "import csv\n",
    "import os\n",
    "\n",
    "#file to load and outputs\n",
    "file_to_load = os.path.join(\".\", \"Resources\", \"budget_data.csv\")\n",
    "file_to_output = os.path.join(\".\", \"budget_analysis.txt.\")\n",
    "\n",
    "total_months = 1\n",
    "total_net = 0\n",
    "\n",
    "net_change_list = []\n",
    "month_of_changes = []\n",
    "\n",
    "greatest = [\"\", 0]\n",
    "least = [\"\", 999999999999999999]\n",
    "\n",
    "#Read CSV and Convert into File:\n",
    "with open(file_to_load) as financial_data:\n",
    "    \n",
    "    reader = csv.reader(financial_data)\n",
    "    \n",
    "    #Read the Header row\n",
    "    header = next(reader)\n",
    "   \n",
    "    #print(f\"Header: {header}\")\n",
    "    first_row = next(reader)\n",
    "    \n",
    "    total_net += int(first_row[1])\n",
    "    previous_net = int(first_row[1])\n",
    "\n",
    "    \n",
    "    for row in reader:\n",
    "        \n",
    "        #track the total\n",
    "        total_months = total_months + 1\n",
    "        total_net += int(row[1])\n",
    "\n",
    "        #track the net change\n",
    "        net_change = int(row[1]) - previous_net\n",
    "        previous_net = int(row[1])\n",
    "        net_change_list.append(net_change)\n",
    "\n",
    "\n",
    "        #Calculate the greatest increase\n",
    "        if(net_change > greatest[1]):\n",
    "            greatest[0] = row[0]\n",
    "            greatest[1] = net_change\n",
    "\n",
    "        #Calculate the greatest decrease\n",
    "        if(net_change < least[1]):\n",
    "            least[0] = row[0]\n",
    "            least[1] = net_change\n",
    "\n",
    "net_monthly_average = sum(net_change_list)/ len(net_change_list)\n",
    "\n",
    "output = (\n",
    "    f\"Financial Analysis\\n\"\n",
    "    f\"----------------------------\\n\"\n",
    "    f\"Total Months: {total_months}\\n\"\n",
    "    f\"Total: ${total_net}\\n\"\n",
    "    f\"Average Change: ${net_monthly_average:.2f}\\n\"\n",
    "    f\"Greatest Increase in Profits: {greatest[0]} (${greatest[1]})\\n\"\n",
    "    f\"Greatest Decrease in Profits: {least[0]} (${least[1]})\"\n",
    ")\n",
    "print(output)\n",
    "\n",
    "\n",
    "with open(file_to_output, \"w\") as txt_file:\n",
    "    txt_file.write(output)"
   ]
  },
  {
   "cell_type": "code",
   "execution_count": null,
   "id": "30176aaa-fe94-452a-b852-ea53100ad1a5",
   "metadata": {},
   "outputs": [],
   "source": []
  },
  {
   "cell_type": "code",
   "execution_count": null,
   "id": "7b0f9e99-43b5-4d34-a126-7b98469c8bb6",
   "metadata": {},
   "outputs": [],
   "source": []
  }
 ],
 "metadata": {
  "kernelspec": {
   "display_name": "Python 3 (ipykernel)",
   "language": "python",
   "name": "python3"
  },
  "language_info": {
   "codemirror_mode": {
    "name": "ipython",
    "version": 3
   },
   "file_extension": ".py",
   "mimetype": "text/x-python",
   "name": "python",
   "nbconvert_exporter": "python",
   "pygments_lexer": "ipython3",
   "version": "3.12.4"
  }
 },
 "nbformat": 4,
 "nbformat_minor": 5
}
